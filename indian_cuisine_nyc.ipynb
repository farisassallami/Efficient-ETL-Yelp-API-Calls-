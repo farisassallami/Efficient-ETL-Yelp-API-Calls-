{
 "cells": [
  {
   "attachments": {},
   "cell_type": "markdown",
   "metadata": {},
   "source": [
    "Name: Faris Assallami"
   ]
  },
  {
   "cell_type": "code",
   "execution_count": 86,
   "metadata": {},
   "outputs": [],
   "source": [
    "# Standard Imports\n",
    "import numpy as np\n",
    "import pandas as pd\n",
    "import matplotlib.pyplot as plt\n",
    "import seaborn as sns\n",
    "# Additional Imports\n",
    "import os, json, math, time\n",
    "from yelpapi import YelpAPI\n",
    "from tqdm.notebook import tqdm_notebook"
   ]
  },
  {
   "attachments": {},
   "cell_type": "markdown",
   "metadata": {},
   "source": [
    "## Importing JSON and the YELP API keys in the secret folder"
   ]
  },
  {
   "cell_type": "code",
   "execution_count": 87,
   "metadata": {},
   "outputs": [
    {
     "data": {
      "text/plain": [
       "dict_keys(['client-id', 'api-key'])"
      ]
     },
     "execution_count": 87,
     "metadata": {},
     "output_type": "execute_result"
    }
   ],
   "source": [
    "with open('/Users/faris/.secret/yelp_api.json') as f:\n",
    "    login = json.load(f)\n",
    "\n",
    "login.keys()"
   ]
  },
  {
   "attachments": {},
   "cell_type": "markdown",
   "metadata": {},
   "source": [
    "## Importing the Yelp API and setting it to a JSON load"
   ]
  },
  {
   "cell_type": "code",
   "execution_count": 88,
   "metadata": {},
   "outputs": [
    {
     "data": {
      "text/plain": [
       "<yelpapi.yelpapi.YelpAPI at 0x151dadc70>"
      ]
     },
     "execution_count": 88,
     "metadata": {},
     "output_type": "execute_result"
    }
   ],
   "source": [
    "from yelpapi import YelpAPI\n",
    "yelp_api = YelpAPI(login['api-key'], timeout_s=5.0)\n",
    "yelp_api"
   ]
  },
  {
   "cell_type": "code",
   "execution_count": 89,
   "metadata": {},
   "outputs": [],
   "source": [
    "with open('/Users/faris/Downloads/example_yelp_results.json') as f:\n",
    "    json_file = json.load(f)"
   ]
  },
  {
   "cell_type": "code",
   "execution_count": 90,
   "metadata": {},
   "outputs": [
    {
     "data": {
      "text/plain": [
       "dict"
      ]
     },
     "execution_count": 90,
     "metadata": {},
     "output_type": "execute_result"
    }
   ],
   "source": [
    "# Checking json_file data type\n",
    "type(json_file)"
   ]
  },
  {
   "cell_type": "code",
   "execution_count": 91,
   "metadata": {},
   "outputs": [
    {
     "data": {
      "text/plain": [
       "dict_keys(['businesses', 'total', 'region'])"
      ]
     },
     "execution_count": 91,
     "metadata": {},
     "output_type": "execute_result"
    }
   ],
   "source": [
    "# checking the keys of the dictionary\n",
    "json_file.keys()"
   ]
  },
  {
   "attachments": {},
   "cell_type": "markdown",
   "metadata": {},
   "source": [
    "## Searching indian cuisine in NYC"
   ]
  },
  {
   "cell_type": "code",
   "execution_count": 92,
   "metadata": {},
   "outputs": [],
   "source": [
    "LOCATION = 'NY,NY'\n",
    "TERM = 'Indian'"
   ]
  },
  {
   "cell_type": "code",
   "execution_count": 93,
   "metadata": {},
   "outputs": [
    {
     "name": "stdout",
     "output_type": "stream",
     "text": [
      "<class 'dict'>\n"
     ]
    }
   ],
   "source": [
    "search_results = yelp_api.search_query(location=LOCATION,term=TERM,offset = 20)\n",
    "print(type(search_results))"
   ]
  },
  {
   "cell_type": "code",
   "execution_count": 94,
   "metadata": {},
   "outputs": [
    {
     "data": {
      "text/html": [
       "<div>\n",
       "<style scoped>\n",
       "    .dataframe tbody tr th:only-of-type {\n",
       "        vertical-align: middle;\n",
       "    }\n",
       "\n",
       "    .dataframe tbody tr th {\n",
       "        vertical-align: top;\n",
       "    }\n",
       "\n",
       "    .dataframe thead th {\n",
       "        text-align: right;\n",
       "    }\n",
       "</style>\n",
       "<table border=\"1\" class=\"dataframe\">\n",
       "  <thead>\n",
       "    <tr style=\"text-align: right;\">\n",
       "      <th></th>\n",
       "      <th>id</th>\n",
       "      <th>alias</th>\n",
       "      <th>name</th>\n",
       "      <th>image_url</th>\n",
       "      <th>is_closed</th>\n",
       "      <th>url</th>\n",
       "      <th>review_count</th>\n",
       "      <th>categories</th>\n",
       "      <th>rating</th>\n",
       "      <th>coordinates</th>\n",
       "      <th>transactions</th>\n",
       "      <th>price</th>\n",
       "      <th>location</th>\n",
       "      <th>phone</th>\n",
       "      <th>display_phone</th>\n",
       "      <th>distance</th>\n",
       "    </tr>\n",
       "  </thead>\n",
       "  <tbody>\n",
       "    <tr>\n",
       "      <th>0</th>\n",
       "      <td>3hlAeWgSKAnSQ1tg8k8D8g</td>\n",
       "      <td>alachi-masala-new-york-3</td>\n",
       "      <td>Alachi Masala</td>\n",
       "      <td>https://s3-media2.fl.yelpcdn.com/bphoto/6h_KJ0...</td>\n",
       "      <td>False</td>\n",
       "      <td>https://www.yelp.com/biz/alachi-masala-new-yor...</td>\n",
       "      <td>272</td>\n",
       "      <td>[{'alias': 'indpak', 'title': 'Indian'}]</td>\n",
       "      <td>4.0</td>\n",
       "      <td>{'latitude': 40.786196, 'longitude': -73.976448}</td>\n",
       "      <td>[delivery, pickup]</td>\n",
       "      <td>$</td>\n",
       "      <td>{'address1': '488 Amsterdam Ave', 'address2': ...</td>\n",
       "      <td>+12128740737</td>\n",
       "      <td>(212) 874-0737</td>\n",
       "      <td>8808.457111</td>\n",
       "    </tr>\n",
       "    <tr>\n",
       "      <th>1</th>\n",
       "      <td>ZqOxAKVZEZTa4XS4zthp3Q</td>\n",
       "      <td>bombay-grill-brooklyn-5</td>\n",
       "      <td>Bombay Grill</td>\n",
       "      <td>https://s3-media4.fl.yelpcdn.com/bphoto/fkyi6K...</td>\n",
       "      <td>False</td>\n",
       "      <td>https://www.yelp.com/biz/bombay-grill-brooklyn...</td>\n",
       "      <td>287</td>\n",
       "      <td>[{'alias': 'indpak', 'title': 'Indian'}]</td>\n",
       "      <td>4.5</td>\n",
       "      <td>{'latitude': 40.68395749161352, 'longitude': -...</td>\n",
       "      <td>[delivery, pickup]</td>\n",
       "      <td>$$</td>\n",
       "      <td>{'address1': '1176 Bedford Ave', 'address2': '...</td>\n",
       "      <td>+17184840004</td>\n",
       "      <td>(718) 484-0004</td>\n",
       "      <td>3308.767305</td>\n",
       "    </tr>\n",
       "    <tr>\n",
       "      <th>2</th>\n",
       "      <td>ZRzG614HER-6fhZ3-MrEHw</td>\n",
       "      <td>tagmo-new-york</td>\n",
       "      <td>TAGMO</td>\n",
       "      <td>https://s3-media2.fl.yelpcdn.com/bphoto/x2lWsl...</td>\n",
       "      <td>False</td>\n",
       "      <td>https://www.yelp.com/biz/tagmo-new-york?adjust...</td>\n",
       "      <td>62</td>\n",
       "      <td>[{'alias': 'indpak', 'title': 'Indian'}]</td>\n",
       "      <td>4.5</td>\n",
       "      <td>{'latitude': 40.70762, 'longitude': -74.00214}</td>\n",
       "      <td>[delivery, pickup]</td>\n",
       "      <td>$$</td>\n",
       "      <td>{'address1': '226 Front St', 'address2': None,...</td>\n",
       "      <td>+12122852253</td>\n",
       "      <td>(212) 285-2253</td>\n",
       "      <td>1942.798142</td>\n",
       "    </tr>\n",
       "    <tr>\n",
       "      <th>3</th>\n",
       "      <td>WWpOWqOgS9ClYvxYVzR0lg</td>\n",
       "      <td>tikka-indian-grill-brooklyn-5</td>\n",
       "      <td>Tikka Indian Grill</td>\n",
       "      <td>https://s3-media1.fl.yelpcdn.com/bphoto/9MqEPw...</td>\n",
       "      <td>False</td>\n",
       "      <td>https://www.yelp.com/biz/tikka-indian-grill-br...</td>\n",
       "      <td>376</td>\n",
       "      <td>[{'alias': 'indpak', 'title': 'Indian'}, {'ali...</td>\n",
       "      <td>4.0</td>\n",
       "      <td>{'latitude': 40.71441, 'longitude': -73.96078}</td>\n",
       "      <td>[delivery, pickup]</td>\n",
       "      <td>$$</td>\n",
       "      <td>{'address1': '185 Grand St', 'address2': '', '...</td>\n",
       "      <td>+17187682262</td>\n",
       "      <td>(718) 768-2262</td>\n",
       "      <td>1761.137633</td>\n",
       "    </tr>\n",
       "    <tr>\n",
       "      <th>4</th>\n",
       "      <td>objNX6cuj1JyUijFjw21Qw</td>\n",
       "      <td>bombay-bistro-new-york-2</td>\n",
       "      <td>Bombay Bistro</td>\n",
       "      <td>https://s3-media3.fl.yelpcdn.com/bphoto/FBDqyx...</td>\n",
       "      <td>False</td>\n",
       "      <td>https://www.yelp.com/biz/bombay-bistro-new-yor...</td>\n",
       "      <td>264</td>\n",
       "      <td>[{'alias': 'indpak', 'title': 'Indian'}, {'ali...</td>\n",
       "      <td>4.5</td>\n",
       "      <td>{'latitude': 40.73136, 'longitude': -74.00253}</td>\n",
       "      <td>[delivery, pickup]</td>\n",
       "      <td>$$</td>\n",
       "      <td>{'address1': '31 Cornelia St', 'address2': '',...</td>\n",
       "      <td>+16468503719</td>\n",
       "      <td>(646) 850-3719</td>\n",
       "      <td>3349.721718</td>\n",
       "    </tr>\n",
       "  </tbody>\n",
       "</table>\n",
       "</div>"
      ],
      "text/plain": [
       "                       id                          alias                name  \\\n",
       "0  3hlAeWgSKAnSQ1tg8k8D8g       alachi-masala-new-york-3       Alachi Masala   \n",
       "1  ZqOxAKVZEZTa4XS4zthp3Q        bombay-grill-brooklyn-5        Bombay Grill   \n",
       "2  ZRzG614HER-6fhZ3-MrEHw                 tagmo-new-york               TAGMO   \n",
       "3  WWpOWqOgS9ClYvxYVzR0lg  tikka-indian-grill-brooklyn-5  Tikka Indian Grill   \n",
       "4  objNX6cuj1JyUijFjw21Qw       bombay-bistro-new-york-2       Bombay Bistro   \n",
       "\n",
       "                                           image_url  is_closed  \\\n",
       "0  https://s3-media2.fl.yelpcdn.com/bphoto/6h_KJ0...      False   \n",
       "1  https://s3-media4.fl.yelpcdn.com/bphoto/fkyi6K...      False   \n",
       "2  https://s3-media2.fl.yelpcdn.com/bphoto/x2lWsl...      False   \n",
       "3  https://s3-media1.fl.yelpcdn.com/bphoto/9MqEPw...      False   \n",
       "4  https://s3-media3.fl.yelpcdn.com/bphoto/FBDqyx...      False   \n",
       "\n",
       "                                                 url  review_count  \\\n",
       "0  https://www.yelp.com/biz/alachi-masala-new-yor...           272   \n",
       "1  https://www.yelp.com/biz/bombay-grill-brooklyn...           287   \n",
       "2  https://www.yelp.com/biz/tagmo-new-york?adjust...            62   \n",
       "3  https://www.yelp.com/biz/tikka-indian-grill-br...           376   \n",
       "4  https://www.yelp.com/biz/bombay-bistro-new-yor...           264   \n",
       "\n",
       "                                          categories  rating  \\\n",
       "0           [{'alias': 'indpak', 'title': 'Indian'}]     4.0   \n",
       "1           [{'alias': 'indpak', 'title': 'Indian'}]     4.5   \n",
       "2           [{'alias': 'indpak', 'title': 'Indian'}]     4.5   \n",
       "3  [{'alias': 'indpak', 'title': 'Indian'}, {'ali...     4.0   \n",
       "4  [{'alias': 'indpak', 'title': 'Indian'}, {'ali...     4.5   \n",
       "\n",
       "                                         coordinates        transactions  \\\n",
       "0   {'latitude': 40.786196, 'longitude': -73.976448}  [delivery, pickup]   \n",
       "1  {'latitude': 40.68395749161352, 'longitude': -...  [delivery, pickup]   \n",
       "2     {'latitude': 40.70762, 'longitude': -74.00214}  [delivery, pickup]   \n",
       "3     {'latitude': 40.71441, 'longitude': -73.96078}  [delivery, pickup]   \n",
       "4     {'latitude': 40.73136, 'longitude': -74.00253}  [delivery, pickup]   \n",
       "\n",
       "  price                                           location         phone  \\\n",
       "0     $  {'address1': '488 Amsterdam Ave', 'address2': ...  +12128740737   \n",
       "1    $$  {'address1': '1176 Bedford Ave', 'address2': '...  +17184840004   \n",
       "2    $$  {'address1': '226 Front St', 'address2': None,...  +12122852253   \n",
       "3    $$  {'address1': '185 Grand St', 'address2': '', '...  +17187682262   \n",
       "4    $$  {'address1': '31 Cornelia St', 'address2': '',...  +16468503719   \n",
       "\n",
       "    display_phone     distance  \n",
       "0  (212) 874-0737  8808.457111  \n",
       "1  (718) 484-0004  3308.767305  \n",
       "2  (212) 285-2253  1942.798142  \n",
       "3  (718) 768-2262  1761.137633  \n",
       "4  (646) 850-3719  3349.721718  "
      ]
     },
     "execution_count": 94,
     "metadata": {},
     "output_type": "execute_result"
    }
   ],
   "source": [
    "# creating a dataframe of the businesses key\n",
    "df_biz = pd.DataFrame(search_results['businesses'])\n",
    "df_biz.head()"
   ]
  },
  {
   "cell_type": "code",
   "execution_count": 95,
   "metadata": {},
   "outputs": [
    {
     "data": {
      "text/plain": [
       "'/Users/faris/Documents/GitHub/Efficient-Yelp-API-Calls/results_in_progress_NY_indian.json'"
      ]
     },
     "execution_count": 95,
     "metadata": {},
     "output_type": "execute_result"
    }
   ],
   "source": [
    "JSON_FILE = '/Users/faris/Documents/GitHub/Efficient-Yelp-API-Calls/results_in_progress_NY_indian.json'\n",
    "JSON_FILE"
   ]
  },
  {
   "cell_type": "code",
   "execution_count": 96,
   "metadata": {},
   "outputs": [
    {
     "name": "stdout",
     "output_type": "stream",
     "text": [
      "[i] /Users/faris/Documents/GitHub/Efficient-Yelp-API-Calls/results_in_progress_NY_indian.json not found. Saving empty list to file.\n"
     ]
    }
   ],
   "source": [
    "## Check if JSON_FILE exists\n",
    "file_exists = os.path.isfile(JSON_FILE)\n",
    "## If it does not exist: \n",
    "if file_exists == False:\n",
    "    \n",
    "    ## CREATE ANY NEEDED FOLDERS\n",
    "    # Get the Folder Name only\n",
    "    folder = os.path.dirname(JSON_FILE)\n",
    "    ## If JSON_FILE included a folder:\n",
    "    if len(folder)>0:\n",
    "        # create the folder\n",
    "        os.makedirs(folder,exist_ok=True)\n",
    "        \n",
    "        \n",
    "    ## INFORM USER AND SAVE EMPTY LIST\n",
    "    print(f'[i] {JSON_FILE} not found. Saving empty list to file.')\n",
    "    \n",
    "    \n",
    "    # save an empty list\n",
    "    with open(JSON_FILE,'w') as f:\n",
    "        json.dump([],f)  \n",
    "# If it exists, inform user\n",
    "else:\n",
    "    print(f\"[i] {JSON_FILE} already exists.\")"
   ]
  },
  {
   "cell_type": "code",
   "execution_count": 97,
   "metadata": {},
   "outputs": [
    {
     "name": "stdout",
     "output_type": "stream",
     "text": [
      "- 0 previous results found.\n"
     ]
    }
   ],
   "source": [
    "## Load previous results and use len of results for offset\n",
    "with open(JSON_FILE,'r') as f:\n",
    "    previous_results = json.load(f)\n",
    "    \n",
    "## set offset based on previous results\n",
    "n_results = len(previous_results)\n",
    "print(f'- {n_results} previous results found.')"
   ]
  },
  {
   "cell_type": "code",
   "execution_count": 98,
   "metadata": {},
   "outputs": [
    {
     "data": {
      "text/plain": [
       "dict_keys(['businesses', 'total', 'region'])"
      ]
     },
     "execution_count": 98,
     "metadata": {},
     "output_type": "execute_result"
    }
   ],
   "source": [
    "# use our yelp_api variable's search_query method to perform our API call\n",
    "results = yelp_api.search_query(location=LOCATION,\n",
    "                                term=TERM,\n",
    "                               offset=n_results)\n",
    "results.keys()"
   ]
  },
  {
   "cell_type": "code",
   "execution_count": 99,
   "metadata": {},
   "outputs": [
    {
     "data": {
      "text/plain": [
       "1600"
      ]
     },
     "execution_count": 99,
     "metadata": {},
     "output_type": "execute_result"
    }
   ],
   "source": [
    "# How many results total?\n",
    "total_results= results['total']\n",
    "total_results"
   ]
  },
  {
   "cell_type": "code",
   "execution_count": 100,
   "metadata": {},
   "outputs": [
    {
     "data": {
      "text/plain": [
       "20"
      ]
     },
     "execution_count": 100,
     "metadata": {},
     "output_type": "execute_result"
    }
   ],
   "source": [
    "# How many per page?\n",
    "results_per_page = len(results['businesses'])\n",
    "results_per_page"
   ]
  },
  {
   "cell_type": "code",
   "execution_count": 101,
   "metadata": {},
   "outputs": [
    {
     "data": {
      "text/plain": [
       "80"
      ]
     },
     "execution_count": 101,
     "metadata": {},
     "output_type": "execute_result"
    }
   ],
   "source": [
    "n_pages = math.ceil((results['total']-n_results)/results_per_page)\n",
    "n_pages"
   ]
  },
  {
   "cell_type": "code",
   "execution_count": 102,
   "metadata": {},
   "outputs": [],
   "source": [
    "# join new results with old list with extend and save to file\n",
    "previous_results.extend(results['businesses'])  \n",
    "with open(JSON_FILE,'w') as f:\n",
    "     json.dump(previous_results,f)"
   ]
  },
  {
   "cell_type": "code",
   "execution_count": 103,
   "metadata": {},
   "outputs": [
    {
     "data": {
      "application/vnd.jupyter.widget-view+json": {
       "model_id": "e4b7c1e2dc01479899c8983c934923b8",
       "version_major": 2,
       "version_minor": 0
      },
      "text/plain": [
       "  0%|          | 0/80 [00:00<?, ?it/s]"
      ]
     },
     "metadata": {},
     "output_type": "display_data"
    }
   ],
   "source": [
    "for i in tqdm_notebook(range(n_pages)):\n",
    "    time.sleep(.2)"
   ]
  },
  {
   "cell_type": "code",
   "execution_count": 104,
   "metadata": {},
   "outputs": [
    {
     "data": {
      "text/plain": [
       "False"
      ]
     },
     "execution_count": 104,
     "metadata": {},
     "output_type": "execute_result"
    }
   ],
   "source": [
    "## delete file and confirm it no longer exits.\n",
    "os.remove(JSON_FILE)\n",
    "os.path.isfile(JSON_FILE)"
   ]
  },
  {
   "cell_type": "code",
   "execution_count": 105,
   "metadata": {},
   "outputs": [],
   "source": [
    "def create_json_file(JSON_FILE,  delete_if_exists=False):\n",
    "    \n",
    "    ## Check if JSON_FILE exists\n",
    "    file_exists = os.path.isfile(JSON_FILE)\n",
    "    \n",
    "    ## If it DOES exist:\n",
    "    if file_exists == True:\n",
    "        \n",
    "        ## Check if user wants to delete if exists\n",
    "        if delete_if_exists==True:\n",
    "            \n",
    "            print(f\"[!] {JSON_FILE} already exists. Deleting previous file...\")\n",
    "            ## delete file and confirm it no longer exits.\n",
    "            os.remove(JSON_FILE)\n",
    "            ## Recursive call to function after old file deleted\n",
    "            create_json_file(JSON_FILE,delete_if_exists=False)\n",
    "    \n",
    "        else:\n",
    "            print(f\"[i] {JSON_FILE} already exists.\")            \n",
    "            \n",
    "            \n",
    "    ## If it does NOT exist:\n",
    "    \n",
    "    else:\n",
    "        \n",
    "        ## INFORM USER AND SAVE EMPTY LIST\n",
    "        print(f\"[i] {JSON_FILE} not found. Saving empty list to new file.\")\n",
    "        \n",
    "        ## CREATE ANY NEEDED FOLDERS\n",
    "        # Get the Folder Name only\n",
    "        folder = os.path.dirname(JSON_FILE)\n",
    "        \n",
    "        ## If JSON_FILE included a folder:\n",
    "        if len(folder)>0:\n",
    "            # create the folder\n",
    "            os.makedirs(folder,exist_ok=True)\n",
    "        ## Save empty list to start the json file\n",
    "        with open(JSON_FILE,'w') as f:\n",
    "            json.dump([],f)  "
   ]
  },
  {
   "cell_type": "code",
   "execution_count": 106,
   "metadata": {},
   "outputs": [
    {
     "name": "stdout",
     "output_type": "stream",
     "text": [
      "[i] /Users/faris/Documents/GitHub/Efficient-Yelp-API-Calls/results_in_progress_NY_indian.json not found. Saving empty list to new file.\n",
      "- 0 previous results found.\n"
     ]
    },
    {
     "data": {
      "text/plain": [
       "80"
      ]
     },
     "execution_count": 106,
     "metadata": {},
     "output_type": "execute_result"
    }
   ],
   "source": [
    "## Create a new empty json file (exist the previous if it exists)\n",
    "create_json_file(JSON_FILE, delete_if_exists=True)\n",
    "## Load previous results and use len of results for offset\n",
    "with open(JSON_FILE,'r') as f:\n",
    "    previous_results = json.load(f)\n",
    "    \n",
    "## set offset based on previous results\n",
    "n_results = len(previous_results)\n",
    "print(f'- {n_results} previous results found.')\n",
    "# use our yelp_api variable's search_query method to perform our API call\n",
    "results = yelp_api.search_query(location=LOCATION,\n",
    "                                term=TERM,\n",
    "                               offset=n_results)\n",
    "## How many results total?\n",
    "total_results = results['total']\n",
    "## How many did we get the details for?\n",
    "results_per_page = len(results['businesses'])\n",
    "# Use math.ceil to round up for the total number of pages of results.\n",
    "n_pages = math.ceil((results['total']-n_results)/ results_per_page)\n",
    "n_pages"
   ]
  },
  {
   "cell_type": "code",
   "execution_count": 107,
   "metadata": {},
   "outputs": [
    {
     "data": {
      "application/vnd.jupyter.widget-view+json": {
       "model_id": "33d18e8b9e7444a7844dcdb68e1d9a91",
       "version_major": 2,
       "version_minor": 0
      },
      "text/plain": [
       "  0%|          | 0/80 [00:00<?, ?it/s]"
      ]
     },
     "metadata": {},
     "output_type": "display_data"
    },
    {
     "name": "stdout",
     "output_type": "stream",
     "text": [
      "Exceeded 1000 api calls. Stopping loop.\n"
     ]
    }
   ],
   "source": [
    "for i in tqdm_notebook( range(1,n_pages+1)):\n",
    "    \n",
    "    ## Read in results in progress file and check the length\n",
    "    with open(JSON_FILE, 'r') as f:\n",
    "        previous_results = json.load(f)\n",
    "    ## save number of results for to use as offset\n",
    "    n_results = len(previous_results)\n",
    "    \n",
    "    if (n_results + results_per_page) > 1000:\n",
    "        print('Exceeded 1000 api calls. Stopping loop.')\n",
    "        break\n",
    "    \n",
    "    ## use n_results as the OFFSET \n",
    "    results = yelp_api.search_query(location=LOCATION,\n",
    "                                    term=TERM, \n",
    "                                    offset=n_results)\n",
    "    \n",
    "    \n",
    "    \n",
    "    ## append new results and save to file\n",
    "    previous_results.extend(results['businesses'])\n",
    "    \n",
    "    # display(previous_results)\n",
    "    with open(JSON_FILE,'w') as f:\n",
    "        json.dump(previous_results,f)\n",
    "    \n",
    "    time.sleep(.2)"
   ]
  },
  {
   "cell_type": "code",
   "execution_count": 108,
   "metadata": {},
   "outputs": [
    {
     "data": {
      "text/html": [
       "<div>\n",
       "<style scoped>\n",
       "    .dataframe tbody tr th:only-of-type {\n",
       "        vertical-align: middle;\n",
       "    }\n",
       "\n",
       "    .dataframe tbody tr th {\n",
       "        vertical-align: top;\n",
       "    }\n",
       "\n",
       "    .dataframe thead th {\n",
       "        text-align: right;\n",
       "    }\n",
       "</style>\n",
       "<table border=\"1\" class=\"dataframe\">\n",
       "  <thead>\n",
       "    <tr style=\"text-align: right;\">\n",
       "      <th></th>\n",
       "      <th>id</th>\n",
       "      <th>alias</th>\n",
       "      <th>name</th>\n",
       "      <th>image_url</th>\n",
       "      <th>is_closed</th>\n",
       "      <th>url</th>\n",
       "      <th>review_count</th>\n",
       "      <th>categories</th>\n",
       "      <th>rating</th>\n",
       "      <th>coordinates</th>\n",
       "      <th>transactions</th>\n",
       "      <th>price</th>\n",
       "      <th>location</th>\n",
       "      <th>phone</th>\n",
       "      <th>display_phone</th>\n",
       "      <th>distance</th>\n",
       "    </tr>\n",
       "  </thead>\n",
       "  <tbody>\n",
       "    <tr>\n",
       "      <th>0</th>\n",
       "      <td>_7BGw3YFNOTzP1Www3zB7g</td>\n",
       "      <td>mughlai-grill-new-york</td>\n",
       "      <td>Mughlai Grill</td>\n",
       "      <td>https://s3-media3.fl.yelpcdn.com/bphoto/R0MIGO...</td>\n",
       "      <td>False</td>\n",
       "      <td>https://www.yelp.com/biz/mughlai-grill-new-yor...</td>\n",
       "      <td>505</td>\n",
       "      <td>[{'alias': 'indpak', 'title': 'Indian'}]</td>\n",
       "      <td>4.5</td>\n",
       "      <td>{'latitude': 40.7210905, 'longitude': -73.9840...</td>\n",
       "      <td>[delivery, restaurant_reservation, pickup]</td>\n",
       "      <td>$$</td>\n",
       "      <td>{'address1': '6 Clinton St', 'address2': '', '...</td>\n",
       "      <td>+12125332828</td>\n",
       "      <td>(212) 533-2828</td>\n",
       "      <td>1621.796018</td>\n",
       "    </tr>\n",
       "    <tr>\n",
       "      <th>1</th>\n",
       "      <td>zyQpS4QrYYB0VKXf7JPUlQ</td>\n",
       "      <td>atithi-indian-cuisine-brooklyn</td>\n",
       "      <td>Atithi Indian Cuisine</td>\n",
       "      <td>https://s3-media3.fl.yelpcdn.com/bphoto/ZUBeEb...</td>\n",
       "      <td>False</td>\n",
       "      <td>https://www.yelp.com/biz/atithi-indian-cuisine...</td>\n",
       "      <td>187</td>\n",
       "      <td>[{'alias': 'indpak', 'title': 'Indian'}]</td>\n",
       "      <td>5.0</td>\n",
       "      <td>{'latitude': 40.714765, 'longitude': -73.961606}</td>\n",
       "      <td>[restaurant_reservation, delivery, pickup]</td>\n",
       "      <td>$$</td>\n",
       "      <td>{'address1': '159 Grand St', 'address2': None,...</td>\n",
       "      <td>+17186849192</td>\n",
       "      <td>(718) 684-9192</td>\n",
       "      <td>1721.405614</td>\n",
       "    </tr>\n",
       "    <tr>\n",
       "      <th>2</th>\n",
       "      <td>x0k5kFArHLijdY8-NEQ7Xg</td>\n",
       "      <td>bengal-tiger-indian-food-new-york</td>\n",
       "      <td>Bengal Tiger Indian Food</td>\n",
       "      <td>https://s3-media2.fl.yelpcdn.com/bphoto/65Q6vt...</td>\n",
       "      <td>False</td>\n",
       "      <td>https://www.yelp.com/biz/bengal-tiger-indian-f...</td>\n",
       "      <td>2284</td>\n",
       "      <td>[{'alias': 'indpak', 'title': 'Indian'}]</td>\n",
       "      <td>4.5</td>\n",
       "      <td>{'latitude': 40.763167, 'longitude': -73.977131}</td>\n",
       "      <td>[delivery, pickup]</td>\n",
       "      <td>$$</td>\n",
       "      <td>{'address1': '58 W 56th St', 'address2': 'Fl 2...</td>\n",
       "      <td>+12122652703</td>\n",
       "      <td>(212) 265-2703</td>\n",
       "      <td>6250.358047</td>\n",
       "    </tr>\n",
       "    <tr>\n",
       "      <th>3</th>\n",
       "      <td>BXoW0AUDE7WZJcY-Vhqlbg</td>\n",
       "      <td>indian-table-brooklyn-2</td>\n",
       "      <td>Indian Table</td>\n",
       "      <td>https://s3-media2.fl.yelpcdn.com/bphoto/84dNZX...</td>\n",
       "      <td>False</td>\n",
       "      <td>https://www.yelp.com/biz/indian-table-brooklyn...</td>\n",
       "      <td>197</td>\n",
       "      <td>[{'alias': 'indpak', 'title': 'Indian'}]</td>\n",
       "      <td>4.5</td>\n",
       "      <td>{'latitude': 40.6859591, 'longitude': -73.9941...</td>\n",
       "      <td>[delivery, pickup]</td>\n",
       "      <td>$$</td>\n",
       "      <td>{'address1': '234 Court St', 'address2': '', '...</td>\n",
       "      <td>+13476893882</td>\n",
       "      <td>(347) 689-3882</td>\n",
       "      <td>2656.504257</td>\n",
       "    </tr>\n",
       "    <tr>\n",
       "      <th>4</th>\n",
       "      <td>Txm8KtUh9Mn2E7980jTr5g</td>\n",
       "      <td>dhamaka-new-york</td>\n",
       "      <td>Dhamaka</td>\n",
       "      <td>https://s3-media1.fl.yelpcdn.com/bphoto/-Sp5A0...</td>\n",
       "      <td>False</td>\n",
       "      <td>https://www.yelp.com/biz/dhamaka-new-york?adju...</td>\n",
       "      <td>380</td>\n",
       "      <td>[{'alias': 'indpak', 'title': 'Indian'}]</td>\n",
       "      <td>4.0</td>\n",
       "      <td>{'latitude': 40.7180658, 'longitude': -73.9881...</td>\n",
       "      <td>[delivery]</td>\n",
       "      <td>$$$</td>\n",
       "      <td>{'address1': '119 Delancey St', 'address2': 'E...</td>\n",
       "      <td>+12122048616</td>\n",
       "      <td>(212) 204-8616</td>\n",
       "      <td>1445.108006</td>\n",
       "    </tr>\n",
       "  </tbody>\n",
       "</table>\n",
       "</div>"
      ],
      "text/plain": [
       "                       id                              alias  \\\n",
       "0  _7BGw3YFNOTzP1Www3zB7g             mughlai-grill-new-york   \n",
       "1  zyQpS4QrYYB0VKXf7JPUlQ     atithi-indian-cuisine-brooklyn   \n",
       "2  x0k5kFArHLijdY8-NEQ7Xg  bengal-tiger-indian-food-new-york   \n",
       "3  BXoW0AUDE7WZJcY-Vhqlbg            indian-table-brooklyn-2   \n",
       "4  Txm8KtUh9Mn2E7980jTr5g                   dhamaka-new-york   \n",
       "\n",
       "                       name  \\\n",
       "0             Mughlai Grill   \n",
       "1     Atithi Indian Cuisine   \n",
       "2  Bengal Tiger Indian Food   \n",
       "3              Indian Table   \n",
       "4                   Dhamaka   \n",
       "\n",
       "                                           image_url  is_closed  \\\n",
       "0  https://s3-media3.fl.yelpcdn.com/bphoto/R0MIGO...      False   \n",
       "1  https://s3-media3.fl.yelpcdn.com/bphoto/ZUBeEb...      False   \n",
       "2  https://s3-media2.fl.yelpcdn.com/bphoto/65Q6vt...      False   \n",
       "3  https://s3-media2.fl.yelpcdn.com/bphoto/84dNZX...      False   \n",
       "4  https://s3-media1.fl.yelpcdn.com/bphoto/-Sp5A0...      False   \n",
       "\n",
       "                                                 url  review_count  \\\n",
       "0  https://www.yelp.com/biz/mughlai-grill-new-yor...           505   \n",
       "1  https://www.yelp.com/biz/atithi-indian-cuisine...           187   \n",
       "2  https://www.yelp.com/biz/bengal-tiger-indian-f...          2284   \n",
       "3  https://www.yelp.com/biz/indian-table-brooklyn...           197   \n",
       "4  https://www.yelp.com/biz/dhamaka-new-york?adju...           380   \n",
       "\n",
       "                                 categories  rating  \\\n",
       "0  [{'alias': 'indpak', 'title': 'Indian'}]     4.5   \n",
       "1  [{'alias': 'indpak', 'title': 'Indian'}]     5.0   \n",
       "2  [{'alias': 'indpak', 'title': 'Indian'}]     4.5   \n",
       "3  [{'alias': 'indpak', 'title': 'Indian'}]     4.5   \n",
       "4  [{'alias': 'indpak', 'title': 'Indian'}]     4.0   \n",
       "\n",
       "                                         coordinates  \\\n",
       "0  {'latitude': 40.7210905, 'longitude': -73.9840...   \n",
       "1   {'latitude': 40.714765, 'longitude': -73.961606}   \n",
       "2   {'latitude': 40.763167, 'longitude': -73.977131}   \n",
       "3  {'latitude': 40.6859591, 'longitude': -73.9941...   \n",
       "4  {'latitude': 40.7180658, 'longitude': -73.9881...   \n",
       "\n",
       "                                 transactions price  \\\n",
       "0  [delivery, restaurant_reservation, pickup]    $$   \n",
       "1  [restaurant_reservation, delivery, pickup]    $$   \n",
       "2                          [delivery, pickup]    $$   \n",
       "3                          [delivery, pickup]    $$   \n",
       "4                                  [delivery]   $$$   \n",
       "\n",
       "                                            location         phone  \\\n",
       "0  {'address1': '6 Clinton St', 'address2': '', '...  +12125332828   \n",
       "1  {'address1': '159 Grand St', 'address2': None,...  +17186849192   \n",
       "2  {'address1': '58 W 56th St', 'address2': 'Fl 2...  +12122652703   \n",
       "3  {'address1': '234 Court St', 'address2': '', '...  +13476893882   \n",
       "4  {'address1': '119 Delancey St', 'address2': 'E...  +12122048616   \n",
       "\n",
       "    display_phone     distance  \n",
       "0  (212) 533-2828  1621.796018  \n",
       "1  (718) 684-9192  1721.405614  \n",
       "2  (212) 265-2703  6250.358047  \n",
       "3  (347) 689-3882  2656.504257  \n",
       "4  (212) 204-8616  1445.108006  "
      ]
     },
     "metadata": {},
     "output_type": "display_data"
    },
    {
     "data": {
      "text/html": [
       "<div>\n",
       "<style scoped>\n",
       "    .dataframe tbody tr th:only-of-type {\n",
       "        vertical-align: middle;\n",
       "    }\n",
       "\n",
       "    .dataframe tbody tr th {\n",
       "        vertical-align: top;\n",
       "    }\n",
       "\n",
       "    .dataframe thead th {\n",
       "        text-align: right;\n",
       "    }\n",
       "</style>\n",
       "<table border=\"1\" class=\"dataframe\">\n",
       "  <thead>\n",
       "    <tr style=\"text-align: right;\">\n",
       "      <th></th>\n",
       "      <th>id</th>\n",
       "      <th>alias</th>\n",
       "      <th>name</th>\n",
       "      <th>image_url</th>\n",
       "      <th>is_closed</th>\n",
       "      <th>url</th>\n",
       "      <th>review_count</th>\n",
       "      <th>categories</th>\n",
       "      <th>rating</th>\n",
       "      <th>coordinates</th>\n",
       "      <th>transactions</th>\n",
       "      <th>price</th>\n",
       "      <th>location</th>\n",
       "      <th>phone</th>\n",
       "      <th>display_phone</th>\n",
       "      <th>distance</th>\n",
       "    </tr>\n",
       "  </thead>\n",
       "  <tbody>\n",
       "    <tr>\n",
       "      <th>995</th>\n",
       "      <td>7-I3pf_c9CAgNNa9e3nYjQ</td>\n",
       "      <td>zakirs-bakery-sweet-and-restaurant-paterson</td>\n",
       "      <td>Zakir's Bakery Sweet &amp; Restaurant</td>\n",
       "      <td>https://s3-media2.fl.yelpcdn.com/bphoto/F2_biZ...</td>\n",
       "      <td>False</td>\n",
       "      <td>https://www.yelp.com/biz/zakirs-bakery-sweet-a...</td>\n",
       "      <td>6</td>\n",
       "      <td>[{'alias': 'bangladeshi', 'title': 'Bangladesh...</td>\n",
       "      <td>5.0</td>\n",
       "      <td>{'latitude': 40.92003, 'longitude': -74.18658}</td>\n",
       "      <td>[]</td>\n",
       "      <td>NaN</td>\n",
       "      <td>{'address1': '374 Union Ave', 'address2': '', ...</td>\n",
       "      <td>+19735950656</td>\n",
       "      <td>(973) 595-0656</td>\n",
       "      <td>29435.722616</td>\n",
       "    </tr>\n",
       "    <tr>\n",
       "      <th>996</th>\n",
       "      <td>amU4dSDarmtIU-D3pU687A</td>\n",
       "      <td>minar-kabab-tikka-corner-jersey-city-2</td>\n",
       "      <td>Minar Kabab tikka corner</td>\n",
       "      <td>https://s3-media2.fl.yelpcdn.com/bphoto/jTY6HC...</td>\n",
       "      <td>False</td>\n",
       "      <td>https://www.yelp.com/biz/minar-kabab-tikka-cor...</td>\n",
       "      <td>16</td>\n",
       "      <td>[{'alias': 'meats', 'title': 'Meat Shops'}, {'...</td>\n",
       "      <td>3.0</td>\n",
       "      <td>{'latitude': 40.735415071249, 'longitude': -74...</td>\n",
       "      <td>[]</td>\n",
       "      <td>$$$</td>\n",
       "      <td>{'address1': '771 Newark Ave', 'address2': Non...</td>\n",
       "      <td>+12012160222</td>\n",
       "      <td>(201) 216-0222</td>\n",
       "      <td>7798.054881</td>\n",
       "    </tr>\n",
       "    <tr>\n",
       "      <th>997</th>\n",
       "      <td>ajo-X0Z4MjQgIxja1VY_rQ</td>\n",
       "      <td>azerbaijan-grill-east-meadow-3</td>\n",
       "      <td>Azerbaijan Grill</td>\n",
       "      <td>https://s3-media3.fl.yelpcdn.com/bphoto/GCFY70...</td>\n",
       "      <td>False</td>\n",
       "      <td>https://www.yelp.com/biz/azerbaijan-grill-east...</td>\n",
       "      <td>290</td>\n",
       "      <td>[{'alias': 'mediterranean', 'title': 'Mediterr...</td>\n",
       "      <td>4.0</td>\n",
       "      <td>{'latitude': 40.72475085775584, 'longitude': -...</td>\n",
       "      <td>[restaurant_reservation, delivery, pickup]</td>\n",
       "      <td>$$</td>\n",
       "      <td>{'address1': '2366 Hempstead Tpke', 'address2'...</td>\n",
       "      <td>+15162280001</td>\n",
       "      <td>(516) 228-0001</td>\n",
       "      <td>36372.890765</td>\n",
       "    </tr>\n",
       "    <tr>\n",
       "      <th>998</th>\n",
       "      <td>5yEX566DCppdRBcd_c1jvA</td>\n",
       "      <td>potala-fresh-momo-jackson-heights</td>\n",
       "      <td>Potala Fresh Momo</td>\n",
       "      <td>https://s3-media4.fl.yelpcdn.com/bphoto/zOhh66...</td>\n",
       "      <td>False</td>\n",
       "      <td>https://www.yelp.com/biz/potala-fresh-momo-jac...</td>\n",
       "      <td>90</td>\n",
       "      <td>[{'alias': 'himalayan', 'title': 'Himalayan/Ne...</td>\n",
       "      <td>4.0</td>\n",
       "      <td>{'latitude': 40.7475311406192, 'longitude': -7...</td>\n",
       "      <td>[]</td>\n",
       "      <td>$</td>\n",
       "      <td>{'address1': 'Broadway &amp; 37th Rd', 'address2':...</td>\n",
       "      <td>+19177671777</td>\n",
       "      <td>(917) 767-1777</td>\n",
       "      <td>8519.695637</td>\n",
       "    </tr>\n",
       "    <tr>\n",
       "      <th>999</th>\n",
       "      <td>EHLxcSpBEupBVTh2EGlPWw</td>\n",
       "      <td>punjabi-rasoi-somerset-3</td>\n",
       "      <td>Punjabi Rasoi</td>\n",
       "      <td>https://s3-media3.fl.yelpcdn.com/bphoto/r5TVSq...</td>\n",
       "      <td>False</td>\n",
       "      <td>https://www.yelp.com/biz/punjabi-rasoi-somerse...</td>\n",
       "      <td>112</td>\n",
       "      <td>[{'alias': 'indpak', 'title': 'Indian'}]</td>\n",
       "      <td>4.5</td>\n",
       "      <td>{'latitude': 40.4686, 'longitude': -74.49742}</td>\n",
       "      <td>[delivery, pickup]</td>\n",
       "      <td>$$</td>\n",
       "      <td>{'address1': '1483 Rte 27 S', 'address2': '', ...</td>\n",
       "      <td>+17322464569</td>\n",
       "      <td>(732) 246-4569</td>\n",
       "      <td>51160.665538</td>\n",
       "    </tr>\n",
       "  </tbody>\n",
       "</table>\n",
       "</div>"
      ],
      "text/plain": [
       "                         id                                        alias  \\\n",
       "995  7-I3pf_c9CAgNNa9e3nYjQ  zakirs-bakery-sweet-and-restaurant-paterson   \n",
       "996  amU4dSDarmtIU-D3pU687A       minar-kabab-tikka-corner-jersey-city-2   \n",
       "997  ajo-X0Z4MjQgIxja1VY_rQ               azerbaijan-grill-east-meadow-3   \n",
       "998  5yEX566DCppdRBcd_c1jvA            potala-fresh-momo-jackson-heights   \n",
       "999  EHLxcSpBEupBVTh2EGlPWw                     punjabi-rasoi-somerset-3   \n",
       "\n",
       "                                  name  \\\n",
       "995  Zakir's Bakery Sweet & Restaurant   \n",
       "996           Minar Kabab tikka corner   \n",
       "997                   Azerbaijan Grill   \n",
       "998                  Potala Fresh Momo   \n",
       "999                      Punjabi Rasoi   \n",
       "\n",
       "                                             image_url  is_closed  \\\n",
       "995  https://s3-media2.fl.yelpcdn.com/bphoto/F2_biZ...      False   \n",
       "996  https://s3-media2.fl.yelpcdn.com/bphoto/jTY6HC...      False   \n",
       "997  https://s3-media3.fl.yelpcdn.com/bphoto/GCFY70...      False   \n",
       "998  https://s3-media4.fl.yelpcdn.com/bphoto/zOhh66...      False   \n",
       "999  https://s3-media3.fl.yelpcdn.com/bphoto/r5TVSq...      False   \n",
       "\n",
       "                                                   url  review_count  \\\n",
       "995  https://www.yelp.com/biz/zakirs-bakery-sweet-a...             6   \n",
       "996  https://www.yelp.com/biz/minar-kabab-tikka-cor...            16   \n",
       "997  https://www.yelp.com/biz/azerbaijan-grill-east...           290   \n",
       "998  https://www.yelp.com/biz/potala-fresh-momo-jac...            90   \n",
       "999  https://www.yelp.com/biz/punjabi-rasoi-somerse...           112   \n",
       "\n",
       "                                            categories  rating  \\\n",
       "995  [{'alias': 'bangladeshi', 'title': 'Bangladesh...     5.0   \n",
       "996  [{'alias': 'meats', 'title': 'Meat Shops'}, {'...     3.0   \n",
       "997  [{'alias': 'mediterranean', 'title': 'Mediterr...     4.0   \n",
       "998  [{'alias': 'himalayan', 'title': 'Himalayan/Ne...     4.0   \n",
       "999           [{'alias': 'indpak', 'title': 'Indian'}]     4.5   \n",
       "\n",
       "                                           coordinates  \\\n",
       "995     {'latitude': 40.92003, 'longitude': -74.18658}   \n",
       "996  {'latitude': 40.735415071249, 'longitude': -74...   \n",
       "997  {'latitude': 40.72475085775584, 'longitude': -...   \n",
       "998  {'latitude': 40.7475311406192, 'longitude': -7...   \n",
       "999      {'latitude': 40.4686, 'longitude': -74.49742}   \n",
       "\n",
       "                                   transactions price  \\\n",
       "995                                          []   NaN   \n",
       "996                                          []   $$$   \n",
       "997  [restaurant_reservation, delivery, pickup]    $$   \n",
       "998                                          []     $   \n",
       "999                          [delivery, pickup]    $$   \n",
       "\n",
       "                                              location         phone  \\\n",
       "995  {'address1': '374 Union Ave', 'address2': '', ...  +19735950656   \n",
       "996  {'address1': '771 Newark Ave', 'address2': Non...  +12012160222   \n",
       "997  {'address1': '2366 Hempstead Tpke', 'address2'...  +15162280001   \n",
       "998  {'address1': 'Broadway & 37th Rd', 'address2':...  +19177671777   \n",
       "999  {'address1': '1483 Rte 27 S', 'address2': '', ...  +17322464569   \n",
       "\n",
       "      display_phone      distance  \n",
       "995  (973) 595-0656  29435.722616  \n",
       "996  (201) 216-0222   7798.054881  \n",
       "997  (516) 228-0001  36372.890765  \n",
       "998  (917) 767-1777   8519.695637  \n",
       "999  (732) 246-4569  51160.665538  "
      ]
     },
     "metadata": {},
     "output_type": "display_data"
    }
   ],
   "source": [
    "# load final results\n",
    "final_df = pd.read_json(JSON_FILE)\n",
    "display(final_df.head(), final_df.tail())"
   ]
  },
  {
   "cell_type": "code",
   "execution_count": 109,
   "metadata": {},
   "outputs": [
    {
     "ename": "TypeError",
     "evalue": "unhashable type: 'list'",
     "output_type": "error",
     "traceback": [
      "\u001b[0;31m---------------------------------------------------------------------------\u001b[0m",
      "\u001b[0;31mTypeError\u001b[0m                                 Traceback (most recent call last)",
      "\u001b[1;32m/Users/faris/Documents/GitHub/Efficient-Yelp-API-Calls/indian_cuisine_nyc.ipynb Cell 28\u001b[0m in \u001b[0;36m2\n\u001b[1;32m      <a href='vscode-notebook-cell:/Users/faris/Documents/GitHub/Efficient-Yelp-API-Calls/indian_cuisine_nyc.ipynb#X40sZmlsZQ%3D%3D?line=0'>1</a>\u001b[0m \u001b[39m# check for duplicate results\u001b[39;00m\n\u001b[0;32m----> <a href='vscode-notebook-cell:/Users/faris/Documents/GitHub/Efficient-Yelp-API-Calls/indian_cuisine_nyc.ipynb#X40sZmlsZQ%3D%3D?line=1'>2</a>\u001b[0m final_df\u001b[39m.\u001b[39;49mduplicated()\u001b[39m.\u001b[39msum()\n",
      "File \u001b[0;32m/opt/homebrew/Caskroom/miniforge/base/envs/dojo-env/lib/python3.9/site-packages/pandas/core/frame.py:6811\u001b[0m, in \u001b[0;36mDataFrame.duplicated\u001b[0;34m(self, subset, keep)\u001b[0m\n\u001b[1;32m   6809\u001b[0m \u001b[39melse\u001b[39;00m:\n\u001b[1;32m   6810\u001b[0m     vals \u001b[39m=\u001b[39m (col\u001b[39m.\u001b[39mvalues \u001b[39mfor\u001b[39;00m name, col \u001b[39min\u001b[39;00m \u001b[39mself\u001b[39m\u001b[39m.\u001b[39mitems() \u001b[39mif\u001b[39;00m name \u001b[39min\u001b[39;00m subset)\n\u001b[0;32m-> 6811\u001b[0m     labels, shape \u001b[39m=\u001b[39m \u001b[39mmap\u001b[39m(\u001b[39mlist\u001b[39m, \u001b[39mzip\u001b[39;49m(\u001b[39m*\u001b[39;49m\u001b[39mmap\u001b[39;49m(f, vals)))\n\u001b[1;32m   6813\u001b[0m     ids \u001b[39m=\u001b[39m get_group_index(\n\u001b[1;32m   6814\u001b[0m         labels,\n\u001b[1;32m   6815\u001b[0m         \u001b[39m# error: Argument 1 to \"tuple\" has incompatible type \"List[_T]\";\u001b[39;00m\n\u001b[0;32m   (...)\u001b[0m\n\u001b[1;32m   6819\u001b[0m         xnull\u001b[39m=\u001b[39m\u001b[39mFalse\u001b[39;00m,\n\u001b[1;32m   6820\u001b[0m     )\n\u001b[1;32m   6821\u001b[0m     result \u001b[39m=\u001b[39m \u001b[39mself\u001b[39m\u001b[39m.\u001b[39m_constructor_sliced(duplicated(ids, keep), index\u001b[39m=\u001b[39m\u001b[39mself\u001b[39m\u001b[39m.\u001b[39mindex)\n",
      "File \u001b[0;32m/opt/homebrew/Caskroom/miniforge/base/envs/dojo-env/lib/python3.9/site-packages/pandas/core/frame.py:6779\u001b[0m, in \u001b[0;36mDataFrame.duplicated.<locals>.f\u001b[0;34m(vals)\u001b[0m\n\u001b[1;32m   6778\u001b[0m \u001b[39mdef\u001b[39;00m \u001b[39mf\u001b[39m(vals) \u001b[39m-\u001b[39m\u001b[39m>\u001b[39m \u001b[39mtuple\u001b[39m[np\u001b[39m.\u001b[39mndarray, \u001b[39mint\u001b[39m]:\n\u001b[0;32m-> 6779\u001b[0m     labels, shape \u001b[39m=\u001b[39m algorithms\u001b[39m.\u001b[39;49mfactorize(vals, size_hint\u001b[39m=\u001b[39;49m\u001b[39mlen\u001b[39;49m(\u001b[39mself\u001b[39;49m))\n\u001b[1;32m   6780\u001b[0m     \u001b[39mreturn\u001b[39;00m labels\u001b[39m.\u001b[39mastype(\u001b[39m\"\u001b[39m\u001b[39mi8\u001b[39m\u001b[39m\"\u001b[39m, copy\u001b[39m=\u001b[39m\u001b[39mFalse\u001b[39;00m), \u001b[39mlen\u001b[39m(shape)\n",
      "File \u001b[0;32m/opt/homebrew/Caskroom/miniforge/base/envs/dojo-env/lib/python3.9/site-packages/pandas/core/algorithms.py:818\u001b[0m, in \u001b[0;36mfactorize\u001b[0;34m(values, sort, na_sentinel, use_na_sentinel, size_hint)\u001b[0m\n\u001b[1;32m    815\u001b[0m             \u001b[39m# Don't modify (potentially user-provided) array\u001b[39;00m\n\u001b[1;32m    816\u001b[0m             values \u001b[39m=\u001b[39m np\u001b[39m.\u001b[39mwhere(null_mask, na_value, values)\n\u001b[0;32m--> 818\u001b[0m     codes, uniques \u001b[39m=\u001b[39m factorize_array(\n\u001b[1;32m    819\u001b[0m         values,\n\u001b[1;32m    820\u001b[0m         na_sentinel\u001b[39m=\u001b[39;49mna_sentinel_arg,\n\u001b[1;32m    821\u001b[0m         size_hint\u001b[39m=\u001b[39;49msize_hint,\n\u001b[1;32m    822\u001b[0m     )\n\u001b[1;32m    824\u001b[0m \u001b[39mif\u001b[39;00m sort \u001b[39mand\u001b[39;00m \u001b[39mlen\u001b[39m(uniques) \u001b[39m>\u001b[39m \u001b[39m0\u001b[39m:\n\u001b[1;32m    825\u001b[0m     \u001b[39mif\u001b[39;00m na_sentinel \u001b[39mis\u001b[39;00m \u001b[39mNone\u001b[39;00m:\n\u001b[1;32m    826\u001b[0m         \u001b[39m# TODO: Can remove when na_sentinel=na_sentinel as in TODO above\u001b[39;00m\n",
      "File \u001b[0;32m/opt/homebrew/Caskroom/miniforge/base/envs/dojo-env/lib/python3.9/site-packages/pandas/core/algorithms.py:574\u001b[0m, in \u001b[0;36mfactorize_array\u001b[0;34m(values, na_sentinel, size_hint, na_value, mask)\u001b[0m\n\u001b[1;32m    571\u001b[0m hash_klass, values \u001b[39m=\u001b[39m _get_hashtable_algo(values)\n\u001b[1;32m    573\u001b[0m table \u001b[39m=\u001b[39m hash_klass(size_hint \u001b[39mor\u001b[39;00m \u001b[39mlen\u001b[39m(values))\n\u001b[0;32m--> 574\u001b[0m uniques, codes \u001b[39m=\u001b[39m table\u001b[39m.\u001b[39;49mfactorize(\n\u001b[1;32m    575\u001b[0m     values,\n\u001b[1;32m    576\u001b[0m     na_sentinel\u001b[39m=\u001b[39;49mna_sentinel,\n\u001b[1;32m    577\u001b[0m     na_value\u001b[39m=\u001b[39;49mna_value,\n\u001b[1;32m    578\u001b[0m     mask\u001b[39m=\u001b[39;49mmask,\n\u001b[1;32m    579\u001b[0m     ignore_na\u001b[39m=\u001b[39;49mignore_na,\n\u001b[1;32m    580\u001b[0m )\n\u001b[1;32m    582\u001b[0m \u001b[39m# re-cast e.g. i8->dt64/td64, uint8->bool\u001b[39;00m\n\u001b[1;32m    583\u001b[0m uniques \u001b[39m=\u001b[39m _reconstruct_data(uniques, original\u001b[39m.\u001b[39mdtype, original)\n",
      "File \u001b[0;32mpandas/_libs/hashtable_class_helper.pxi:5943\u001b[0m, in \u001b[0;36mpandas._libs.hashtable.PyObjectHashTable.factorize\u001b[0;34m()\u001b[0m\n",
      "File \u001b[0;32mpandas/_libs/hashtable_class_helper.pxi:5857\u001b[0m, in \u001b[0;36mpandas._libs.hashtable.PyObjectHashTable._unique\u001b[0;34m()\u001b[0m\n",
      "\u001b[0;31mTypeError\u001b[0m: unhashable type: 'list'"
     ]
    }
   ],
   "source": [
    "# check for duplicate results\n",
    "final_df.duplicated().sum()"
   ]
  },
  {
   "attachments": {},
   "cell_type": "markdown",
   "metadata": {},
   "source": [
    "Because our yelp results include columns that contain lists, we cannot check every column in dataframe for duplicates.\n",
    "\n",
    "Instead, we can use the subset argument for df.duplicated() and df.drop_duplicates() to only check the id column for duplicates."
   ]
  },
  {
   "cell_type": "code",
   "execution_count": 110,
   "metadata": {},
   "outputs": [
    {
     "data": {
      "text/plain": [
       "0"
      ]
     },
     "execution_count": 110,
     "metadata": {},
     "output_type": "execute_result"
    }
   ],
   "source": [
    "# check for duplicate ID's \n",
    "final_df.duplicated(subset='id').sum()"
   ]
  },
  {
   "cell_type": "code",
   "execution_count": 111,
   "metadata": {},
   "outputs": [
    {
     "data": {
      "text/plain": [
       "0"
      ]
     },
     "execution_count": 111,
     "metadata": {},
     "output_type": "execute_result"
    }
   ],
   "source": [
    "## Drop duplicate ids and confirm there are no more duplicates\n",
    "final_df = final_df.drop_duplicates(subset='id')\n",
    "final_df.duplicated(subset='id').sum()"
   ]
  },
  {
   "cell_type": "code",
   "execution_count": 112,
   "metadata": {},
   "outputs": [],
   "source": [
    "# save the final results to a compressed csv\n",
    "final_df.to_csv('/Users/faris/Documents/GitHub/Efficient-Yelp-API-Calls/final_results_NY_indian.csv.gz', compression='gzip',index=False)"
   ]
  }
 ],
 "metadata": {
  "kernelspec": {
   "display_name": "dojo-env",
   "language": "python",
   "name": "python3"
  },
  "language_info": {
   "codemirror_mode": {
    "name": "ipython",
    "version": 3
   },
   "file_extension": ".py",
   "mimetype": "text/x-python",
   "name": "python",
   "nbconvert_exporter": "python",
   "pygments_lexer": "ipython3",
   "version": "3.9.15"
  },
  "orig_nbformat": 4
 },
 "nbformat": 4,
 "nbformat_minor": 2
}
